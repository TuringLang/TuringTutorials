{
 "cells": [
  {
   "cell_type": "code",
   "execution_count": 1,
   "metadata": {},
   "outputs": [
    {
     "name": "stderr",
     "output_type": "stream",
     "text": [
      "\u001b[32m\u001b[1m  Activating\u001b[22m\u001b[39m project at `~/Turing/TuringTutorials/tutorials/docs-17-which-sampler`\n"
     ]
    }
   ],
   "source": [
    "using Pkg\n",
    "Pkg.activate(\".\")"
   ]
  },
  {
   "cell_type": "code",
   "execution_count": 37,
   "metadata": {},
   "outputs": [
    {
     "name": "stderr",
     "output_type": "stream",
     "text": [
      "\u001b[36m\u001b[1m[ \u001b[22m\u001b[39m\u001b[36m\u001b[1mInfo: \u001b[22m\u001b[39mPrecompiling MicroCanonicalHMC [234d2aa0-2291-45f7-9047-6fa6f316b0a8]\n"
     ]
    }
   ],
   "source": [
    "using Turing, DynamicPPL, LogDensityProblems, LogDensityProblemsAD, Random, LinearAlgebra, Plots #, StatsPlots\n",
    "using MicroCanonicalHMC, Pathfinder"
   ]
  },
  {
   "cell_type": "code",
   "execution_count": 3,
   "metadata": {},
   "outputs": [],
   "source": [
    "m10 = 10*rand(10)\n",
    "s10 = Vector(LinRange(1, 10, 10)).^2\n",
    "\n",
    "m20 = 10*rand(20)\n",
    "s20 = Vector(LinRange(1, 10, 20)).^2\n",
    "\n",
    "m30 = 10*rand(30)\n",
    "s30 = Vector(LinRange(1, 10, 30)).^2\n",
    "\n",
    "m50 = 10*rand(50)\n",
    "s50 = Vector(LinRange(1, 10, 50)).^2\n",
    "\n",
    "m100 = 10*rand(100)\n",
    "s100 = Vector(LinRange(1, 10, 100)).^2;\n"
   ]
  },
  {
   "cell_type": "code",
   "execution_count": 23,
   "metadata": {},
   "outputs": [
    {
     "data": {
      "text/plain": [
       "10×10 Diagonal{Float64, Vector{Float64}}:\n",
       " 1.0   ⋅    ⋅     ⋅     ⋅     ⋅     ⋅     ⋅     ⋅      ⋅ \n",
       "  ⋅   4.0   ⋅     ⋅     ⋅     ⋅     ⋅     ⋅     ⋅      ⋅ \n",
       "  ⋅    ⋅   9.0    ⋅     ⋅     ⋅     ⋅     ⋅     ⋅      ⋅ \n",
       "  ⋅    ⋅    ⋅   16.0    ⋅     ⋅     ⋅     ⋅     ⋅      ⋅ \n",
       "  ⋅    ⋅    ⋅     ⋅   25.0    ⋅     ⋅     ⋅     ⋅      ⋅ \n",
       "  ⋅    ⋅    ⋅     ⋅     ⋅   36.0    ⋅     ⋅     ⋅      ⋅ \n",
       "  ⋅    ⋅    ⋅     ⋅     ⋅     ⋅   49.0    ⋅     ⋅      ⋅ \n",
       "  ⋅    ⋅    ⋅     ⋅     ⋅     ⋅     ⋅   64.0    ⋅      ⋅ \n",
       "  ⋅    ⋅    ⋅     ⋅     ⋅     ⋅     ⋅     ⋅   81.0     ⋅ \n",
       "  ⋅    ⋅    ⋅     ⋅     ⋅     ⋅     ⋅     ⋅     ⋅   100.0"
      ]
     },
     "execution_count": 23,
     "metadata": {},
     "output_type": "execute_result"
    }
   ],
   "source": [
    "cov10 = Diagonal(s10)"
   ]
  },
  {
   "cell_type": "code",
   "execution_count": 31,
   "metadata": {},
   "outputs": [
    {
     "data": {
      "text/plain": [
       "Gaussian_model (generic function with 2 methods)"
      ]
     },
     "execution_count": 31,
     "metadata": {},
     "output_type": "execute_result"
    }
   ],
   "source": [
    "@model function Gaussian_model(data, cov)\n",
    "    θ ~ filldist(Uniform(0, 10), length(data))\n",
    "    data ~ MvNormal(θ, cov)\n",
    "end"
   ]
  },
  {
   "cell_type": "code",
   "execution_count": 32,
   "metadata": {},
   "outputs": [
    {
     "data": {
      "text/plain": [
       "Model{typeof(Gaussian_model), (:data, :cov), (), (), Tuple{Vector{Float64}, Vector{Float64}}, Tuple{}, DefaultContext}(Gaussian_model, (data = [1.6695718918468128, 4.585507840758493, 5.767730481311855, 5.706160066539352, 1.3780870302035464, 5.302116640382336, 2.4340180296591054, 5.8697114415739176, 8.14460635377149, 2.8025843589949586  …  8.699739679051982, 9.709856693201765, 5.923956270486373, 5.974974890052499, 8.005114707122106, 4.179710406287368, 0.43439562988778935, 6.234817251893442, 9.367419729431957, 3.911872622401683], cov = [1.0, 1.1900826446280994, 1.3966942148760333, 1.6198347107438016, 1.8595041322314052, 2.115702479338843, 2.3884297520661155, 2.6776859504132227, 2.9834710743801662, 3.3057851239669427  …  84.30578512396694, 85.98347107438018, 87.67768595041322, 89.38842975206613, 91.11570247933884, 92.85950413223138, 94.61983471074379, 96.39669421487604, 98.19008264462812, 100.0]), NamedTuple(), DefaultContext())"
      ]
     },
     "execution_count": 32,
     "metadata": {},
     "output_type": "execute_result"
    }
   ],
   "source": [
    "Gaussian10 = Gaussian_model(m10, cov10)\n",
    "Gaussian20 = Gaussian_model(m20, s20)\n",
    "Gaussian30 = Gaussian_model(m30, s30)\n",
    "Gaussian50 = Gaussian_model(m50, s50)\n",
    "Gaussian100 = Gaussian_model(m100, s100)"
   ]
  },
  {
   "cell_type": "code",
   "execution_count": 35,
   "metadata": {},
   "outputs": [
    {
     "name": "stderr",
     "output_type": "stream",
     "text": [
      "\u001b[32mSampling: 100%|█████████████████████████████████████████| Time: 0:00:00\u001b[39m\n"
     ]
    },
    {
     "data": {
      "text/plain": [
       "Chains MCMC chain (10000×11×1 Array{Float64, 3}):\n",
       "\n",
       "Iterations        = 1:1:10000\n",
       "Number of chains  = 1\n",
       "Samples per chain = 10000\n",
       "Wall duration     = 0.17 seconds\n",
       "Compute duration  = 0.17 seconds\n",
       "parameters        = θ[1], θ[2], θ[3], θ[4], θ[5], θ[6], θ[7], θ[8], θ[9], θ[10]\n",
       "internals         = lp\n",
       "\n",
       "Summary Statistics\n",
       " \u001b[1m parameters \u001b[0m \u001b[1m    mean \u001b[0m \u001b[1m     std \u001b[0m \u001b[1m    mcse \u001b[0m \u001b[1m ess_bulk \u001b[0m \u001b[1m ess_tail \u001b[0m \u001b[1m    rhat \u001b[0m \u001b[1m e\u001b[0m ⋯\n",
       " \u001b[90m     Symbol \u001b[0m \u001b[90m Float64 \u001b[0m \u001b[90m Float64 \u001b[0m \u001b[90m Float64 \u001b[0m \u001b[90m  Float64 \u001b[0m \u001b[90m  Float64 \u001b[0m \u001b[90m Float64 \u001b[0m \u001b[90m  \u001b[0m ⋯\n",
       "\n",
       "        θ[1]    8.7809    0.7654    0.0400   371.1069   353.0633    1.0049     ⋯\n",
       "        θ[2]    1.7842    1.2683    0.0703   303.9006   317.9348    1.0005     ⋯\n",
       "        θ[3]    6.1093    2.2095    0.1151   379.2343   417.5878    1.0018     ⋯\n",
       "        θ[4]    5.8843    2.5130    0.1252   411.9949   272.5686    1.0128     ⋯\n",
       "        θ[5]    4.6771    2.8109    0.1630   301.9897   165.9501    1.0088     ⋯\n",
       "        θ[6]    4.7092    2.7379    0.1526   332.2990   322.1669    1.0001     ⋯\n",
       "        θ[7]    5.1271    2.7533    0.1529   313.6501   282.1619    1.0121     ⋯\n",
       "        θ[8]    4.4824    2.9464    0.1678   307.9052   286.3147    1.0087     ⋯\n",
       "        θ[9]    5.2724    2.8602    0.1697   285.6579   241.0180    1.0000     ⋯\n",
       "       θ[10]    5.1043    2.7956    0.1503   349.9661   282.2873    1.0022     ⋯\n",
       "\u001b[36m                                                                1 column omitted\u001b[0m\n",
       "\n",
       "Quantiles\n",
       " \u001b[1m parameters \u001b[0m \u001b[1m    2.5% \u001b[0m \u001b[1m   25.0% \u001b[0m \u001b[1m   50.0% \u001b[0m \u001b[1m   75.0% \u001b[0m \u001b[1m   97.5% \u001b[0m\n",
       " \u001b[90m     Symbol \u001b[0m \u001b[90m Float64 \u001b[0m \u001b[90m Float64 \u001b[0m \u001b[90m Float64 \u001b[0m \u001b[90m Float64 \u001b[0m \u001b[90m Float64 \u001b[0m\n",
       "\n",
       "        θ[1]    7.1931    8.2901    8.8507    9.4099    9.9628\n",
       "        θ[2]    0.0877    0.8433    1.4743    2.4896    4.9701\n",
       "        θ[3]    1.5106    4.5129    6.2992    7.8537    9.7346\n",
       "        θ[4]    0.6753    4.1822    6.1092    7.8582    9.8410\n",
       "        θ[5]    0.1611    2.2391    4.6811    7.0905    9.5273\n",
       "        θ[6]    0.2907    2.1981    4.7752    7.0322    9.4795\n",
       "        θ[7]    0.1697    2.8748    5.3151    7.4650    9.6749\n",
       "        θ[8]    0.1517    1.8984    4.2218    7.0001    9.6357\n",
       "        θ[9]    0.2662    2.8478    5.4543    7.7396    9.8036\n",
       "       θ[10]    0.2700    2.8430    5.2427    7.4395    9.7519\n"
      ]
     },
     "execution_count": 35,
     "metadata": {},
     "output_type": "execute_result"
    }
   ],
   "source": [
    "MH_chain_10 = sample(Gaussian10, MH(), 10_000)"
   ]
  },
  {
   "cell_type": "code",
   "execution_count": 36,
   "metadata": {},
   "outputs": [
    {
     "name": "stderr",
     "output_type": "stream",
     "text": [
      "\u001b[36m\u001b[1m┌ \u001b[22m\u001b[39m\u001b[36m\u001b[1mInfo: \u001b[22m\u001b[39mFound initial step size\n",
      "\u001b[36m\u001b[1m└ \u001b[22m\u001b[39m  ϵ = 0.8\n",
      "\u001b[32mSampling: 100%|█████████████████████████████████████████| Time: 0:00:01\u001b[39m\n"
     ]
    },
    {
     "data": {
      "text/plain": [
       "Chains MCMC chain (10000×22×1 Array{Float64, 3}):\n",
       "\n",
       "Iterations        = 1001:1:11000\n",
       "Number of chains  = 1\n",
       "Samples per chain = 10000\n",
       "Wall duration     = 1.11 seconds\n",
       "Compute duration  = 1.11 seconds\n",
       "parameters        = θ[1], θ[2], θ[3], θ[4], θ[5], θ[6], θ[7], θ[8], θ[9], θ[10]\n",
       "internals         = lp, n_steps, is_accept, acceptance_rate, log_density, hamiltonian_energy, hamiltonian_energy_error, max_hamiltonian_energy_error, tree_depth, numerical_error, step_size, nom_step_size\n",
       "\n",
       "Summary Statistics\n",
       " \u001b[1m parameters \u001b[0m \u001b[1m    mean \u001b[0m \u001b[1m     std \u001b[0m \u001b[1m    mcse \u001b[0m \u001b[1m   ess_bulk \u001b[0m \u001b[1m  ess_tail \u001b[0m \u001b[1m    rhat \u001b[0m ⋯\n",
       " \u001b[90m     Symbol \u001b[0m \u001b[90m Float64 \u001b[0m \u001b[90m Float64 \u001b[0m \u001b[90m Float64 \u001b[0m \u001b[90m    Float64 \u001b[0m \u001b[90m   Float64 \u001b[0m \u001b[90m Float64 \u001b[0m ⋯\n",
       "\n",
       "        θ[1]    8.8122    0.7589    0.0076    8175.0180   4897.3182    0.9999  ⋯\n",
       "        θ[2]    1.7870    1.3016    0.0114    9868.3216   4841.3122    1.0002  ⋯\n",
       "        θ[3]    5.9965    2.3256    0.0194   13888.1780   5647.4495    1.0005  ⋯\n",
       "        θ[4]    5.8324    2.4927    0.0212   13328.7527   5854.8001    0.9999  ⋯\n",
       "        θ[5]    4.6230    2.7194    0.0227   13338.1054   5107.6127    1.0001  ⋯\n",
       "        θ[6]    4.5559    2.7084    0.0213   16020.4014   6177.0307    1.0001  ⋯\n",
       "        θ[7]    5.0766    2.7818    0.0226   15036.4714   5900.5984    1.0004  ⋯\n",
       "        θ[8]    4.6640    2.8342    0.0232   15182.9137   5048.9183    0.9999  ⋯\n",
       "        θ[9]    5.1799    2.8733    0.0228   15576.2672   5890.6239    1.0003  ⋯\n",
       "       θ[10]    5.1911    2.8344    0.0232   14188.2234   5802.6214    1.0000  ⋯\n",
       "\u001b[36m                                                                1 column omitted\u001b[0m\n",
       "\n",
       "Quantiles\n",
       " \u001b[1m parameters \u001b[0m \u001b[1m    2.5% \u001b[0m \u001b[1m   25.0% \u001b[0m \u001b[1m   50.0% \u001b[0m \u001b[1m   75.0% \u001b[0m \u001b[1m   97.5% \u001b[0m\n",
       " \u001b[90m     Symbol \u001b[0m \u001b[90m Float64 \u001b[0m \u001b[90m Float64 \u001b[0m \u001b[90m Float64 \u001b[0m \u001b[90m Float64 \u001b[0m \u001b[90m Float64 \u001b[0m\n",
       "\n",
       "        θ[1]    7.1207    8.3269    8.9054    9.4181    9.9309\n",
       "        θ[2]    0.0724    0.7575    1.5349    2.5797    4.8372\n",
       "        θ[3]    1.1471    4.3680    6.1742    7.8635    9.7203\n",
       "        θ[4]    0.7954    3.9868    6.0663    7.8808    9.7283\n",
       "        θ[5]    0.2345    2.3380    4.4899    6.7791    9.5948\n",
       "        θ[6]    0.2393    2.2990    4.3960    6.7156    9.5898\n",
       "        θ[7]    0.3238    2.7405    5.1144    7.4329    9.7196\n",
       "        θ[8]    0.2090    2.1960    4.5218    7.0538    9.6645\n",
       "        θ[9]    0.2700    2.7484    5.2446    7.6421    9.7813\n",
       "       θ[10]    0.2984    2.8020    5.2932    7.6464    9.7748\n"
      ]
     },
     "execution_count": 36,
     "metadata": {},
     "output_type": "execute_result"
    }
   ],
   "source": [
    "NUTS_chain_10 = sample(Gaussian10, NUTS(0.65), 10_000)"
   ]
  },
  {
   "cell_type": "code",
   "execution_count": 39,
   "metadata": {},
   "outputs": [
    {
     "name": "stderr",
     "output_type": "stream",
     "text": [
      "\u001b[36m\u001b[1m[ \u001b[22m\u001b[39m\u001b[36m\u001b[1mInfo: \u001b[22m\u001b[39mTuning sigma ⏳\n",
      "\u001b[36m\u001b[1m[ \u001b[22m\u001b[39m\u001b[36m\u001b[1mInfo: \u001b[22m\u001b[39mTuning eps ⏳\n",
      "\u001b[36m\u001b[1m[ \u001b[22m\u001b[39m\u001b[36m\u001b[1mInfo: \u001b[22m\u001b[39mTuning L ⏳\n",
      "\u001b[A2mMCHMC (tuning): 100%|███████████████████████████████████| Time: 0:00:00\u001b[39m\u001b[36m\u001b[1m[ \u001b[22m\u001b[39m\u001b[36m\u001b[1mInfo: \u001b[22m\u001b[39meps: 1.5445883121321577\n",
      "\u001b[36m\u001b[1m[ \u001b[22m\u001b[39m\u001b[36m\u001b[1mInfo: \u001b[22m\u001b[39mL: 2.439300465707851\n",
      "\u001b[36m\u001b[1m[ \u001b[22m\u001b[39m\u001b[36m\u001b[1mInfo: \u001b[22m\u001b[39mnu: 0.5410277436142356\n",
      "\u001b[36m\u001b[1m[ \u001b[22m\u001b[39m\u001b[36m\u001b[1mInfo: \u001b[22m\u001b[39msigma: [1.0588941461273873, 1.3118900954724115, 1.341765508460827, 1.46998753746638, 1.6215943083158675, 1.523626850951299, 1.8150543525404614, 1.4977411239671428, 1.9617863608142907, 1.9492879336661693]\n",
      "\u001b[36m\u001b[1m[ \u001b[22m\u001b[39m\u001b[36m\u001b[1mInfo: \u001b[22m\u001b[39madaptive: true\n",
      "\u001b[32mSampling: 100%|█████████████████████████████████████████| Time: 0:00:00\u001b[39m\n"
     ]
    },
    {
     "data": {
      "text/plain": [
       "Chains MCMC chain (10000×11×1 Array{Float64, 3}):\n",
       "\n",
       "Iterations        = 1:1:10000\n",
       "Number of chains  = 1\n",
       "Samples per chain = 10000\n",
       "Wall duration     = 1.91 seconds\n",
       "Compute duration  = 1.91 seconds\n",
       "parameters        = θ[1], θ[2], θ[3], θ[4], θ[5], θ[6], θ[7], θ[8], θ[9], θ[10]\n",
       "internals         = lp\n",
       "\n",
       "Summary Statistics\n",
       " \u001b[1m parameters \u001b[0m \u001b[1m    mean \u001b[0m \u001b[1m     std \u001b[0m \u001b[1m    mcse \u001b[0m \u001b[1m  ess_bulk \u001b[0m \u001b[1m  ess_tail \u001b[0m \u001b[1m    rhat \u001b[0m \u001b[1m\u001b[0m ⋯\n",
       " \u001b[90m     Symbol \u001b[0m \u001b[90m Float64 \u001b[0m \u001b[90m Float64 \u001b[0m \u001b[90m Float64 \u001b[0m \u001b[90m   Float64 \u001b[0m \u001b[90m   Float64 \u001b[0m \u001b[90m Float64 \u001b[0m \u001b[90m\u001b[0m ⋯\n",
       "\n",
       "        θ[1]    8.8032    0.8195    0.0145   2093.8771   1635.7433    1.0005   ⋯\n",
       "        θ[2]    1.8160    1.3681    0.0236   2378.6185   1449.9089    1.0001   ⋯\n",
       "        θ[3]    5.9793    2.3453    0.0494   1963.3934   1737.4542    1.0000   ⋯\n",
       "        θ[4]    5.7732    2.5593    0.0550   1922.0678   1934.7374    1.0008   ⋯\n",
       "        θ[5]    4.6775    2.6982    0.0562   2046.4492   2359.7564    1.0036   ⋯\n",
       "        θ[6]    4.6191    2.7597    0.0647   1584.3593   1777.1165    1.0022   ⋯\n",
       "        θ[7]    5.0999    2.8536    0.0578   2117.4975   2112.9262    1.0000   ⋯\n",
       "        θ[8]    4.6822    2.7813    0.0676   1476.1342   1704.6144    1.0002   ⋯\n",
       "        θ[9]    5.1834    2.8673    0.0552   2408.6204   2693.9089    1.0028   ⋯\n",
       "       θ[10]    5.1236    2.8451    0.0556   2316.2285   2537.1868    1.0001   ⋯\n",
       "\u001b[36m                                                                1 column omitted\u001b[0m\n",
       "\n",
       "Quantiles\n",
       " \u001b[1m parameters \u001b[0m \u001b[1m    2.5% \u001b[0m \u001b[1m   25.0% \u001b[0m \u001b[1m   50.0% \u001b[0m \u001b[1m   75.0% \u001b[0m \u001b[1m   97.5% \u001b[0m\n",
       " \u001b[90m     Symbol \u001b[0m \u001b[90m Float64 \u001b[0m \u001b[90m Float64 \u001b[0m \u001b[90m Float64 \u001b[0m \u001b[90m Float64 \u001b[0m \u001b[90m Float64 \u001b[0m\n",
       "\n",
       "        θ[1]    6.8419    8.3376    8.9400    9.4361    9.9111\n",
       "        θ[2]    0.0785    0.7521    1.5178    2.5790    5.1927\n",
       "        θ[3]    1.1447    4.3031    6.1873    7.8914    9.6792\n",
       "        θ[4]    0.7435    3.8227    6.0242    7.8861    9.7655\n",
       "        θ[5]    0.3230    2.3886    4.5774    6.8548    9.5259\n",
       "        θ[6]    0.2520    2.2626    4.4690    6.8807    9.6035\n",
       "        θ[7]    0.2794    2.6662    5.1767    7.5584    9.7551\n",
       "        θ[8]    0.2562    2.2957    4.5591    6.9487    9.6368\n",
       "        θ[9]    0.2846    2.7250    5.2754    7.7112    9.7629\n",
       "       θ[10]    0.2616    2.6809    5.2159    7.5841    9.7161\n"
      ]
     },
     "execution_count": 39,
     "metadata": {},
     "output_type": "execute_result"
    }
   ],
   "source": [
    "MCHMC_chain_10 = sample(Gaussian10, externalsampler(MCHMC(1_000, 0.01; adaptive=true)), 10_000)"
   ]
  },
  {
   "cell_type": "code",
   "execution_count": 55,
   "metadata": {},
   "outputs": [
    {
     "name": "stderr",
     "output_type": "stream",
     "text": [
      "\u001b[33m\u001b[1m┌ \u001b[22m\u001b[39m\u001b[33m\u001b[1mWarning: \u001b[22m\u001b[39mPareto shape k = 1 > 1. Corresponding importance sampling estimates are likely to be unstable and are unlikely to converge with additional samples.\n",
      "\u001b[33m\u001b[1m└ \u001b[22m\u001b[39m\u001b[90m@ PSIS ~/.julia/packages/PSIS/f7yyt/src/core.jl:290\u001b[39m\n"
     ]
    },
    {
     "data": {
      "text/plain": [
       "Multi-path Pathfinder result\n",
       "  runs: 8\n",
       "  draws: 1000\n",
       "  Pareto shape diagnostic: 1.04 (very bad)"
      ]
     },
     "execution_count": 55,
     "metadata": {},
     "output_type": "execute_result"
    }
   ],
   "source": [
    "draws = 1_000\n",
    "pathfinder_10 = multipathfinder(Gaussian10, draws; nruns=8)\n"
   ]
  },
  {
   "cell_type": "code",
   "execution_count": 61,
   "metadata": {},
   "outputs": [
    {
     "data": {
      "text/plain": [
       "10-element Vector{Float64}:\n",
       " 3.425720256429995\n",
       " 2.7493424912932487\n",
       " 1.3491869629302082\n",
       " 1.9297810948789416\n",
       " 2.395450489340556\n",
       " 2.935300678879735\n",
       " 2.815960902470621\n",
       " 4.350325688971036\n",
       " 4.0948434480854505\n",
       " 4.512009253079756"
      ]
     },
     "execution_count": 61,
     "metadata": {},
     "output_type": "execute_result"
    }
   ],
   "source": [
    "sqrt.(diag(pathfinder_10.pathfinder_results[1].fit_distribution.Σ))"
   ]
  },
  {
   "cell_type": "code",
   "execution_count": 9,
   "metadata": {},
   "outputs": [
    {
     "data": {
      "text/plain": [
       "10-element Vector{Float64}:\n",
       " 0.7689168071183567\n",
       " 1.3300481145511651\n",
       " 2.326394088205585\n",
       " 2.5609213029547653\n",
       " 2.612306847610716\n",
       " 2.8195582127218906\n",
       " 2.7327773318110173\n",
       " 2.8579052426246827\n",
       " 2.9228661776173563\n",
       " 2.8754236326448743"
      ]
     },
     "execution_count": 9,
     "metadata": {},
     "output_type": "execute_result"
    }
   ],
   "source": [
    "ms = [mean(MH_chain_10.value.data[:, i]) for i in 1:10]\n",
    "ss = [std(MH_chain_10.value.data[:, i]) for i in 1:10]"
   ]
  },
  {
   "cell_type": "code",
   "execution_count": 10,
   "metadata": {},
   "outputs": [
    {
     "ename": "LoadError",
     "evalue": "MethodError: no method matching length(::ChainDataFrame{NamedTuple{(:parameters, :mean), Tuple{Vector{Symbol}, Vector{Float64}}}})\n\n\u001b[0mClosest candidates are:\n\u001b[0m  length(\u001b[91m::Union{Base.KeySet, Base.ValueIterator}\u001b[39m)\n\u001b[0m\u001b[90m   @\u001b[39m \u001b[90mBase\u001b[39m \u001b[90m\u001b[4mabstractdict.jl:58\u001b[24m\u001b[39m\n\u001b[0m  length(\u001b[91m::Union{SparseArrays.FixedSparseVector{Tv, Ti}, SparseArrays.SparseVector{Tv, Ti}} where {Tv, Ti}\u001b[39m)\n\u001b[0m\u001b[90m   @\u001b[39m \u001b[35mSparseArrays\u001b[39m \u001b[90m~/.julia/juliaup/julia-1.9.4+0.x64.linux.gnu/share/julia/stdlib/v1.9/SparseArrays/src/\u001b[39m\u001b[90m\u001b[4msparsevector.jl:95\u001b[24m\u001b[39m\n\u001b[0m  length(\u001b[91m::Union{ZMQ._Message, Base.RefValue{ZMQ._Message}}\u001b[39m)\n\u001b[0m\u001b[90m   @\u001b[39m \u001b[36mZMQ\u001b[39m \u001b[90m~/.julia/packages/ZMQ/lrABE/src/\u001b[39m\u001b[90m\u001b[4m_message.jl:31\u001b[24m\u001b[39m\n\u001b[0m  ...\n",
     "output_type": "error",
     "traceback": [
      "MethodError: no method matching length(::ChainDataFrame{NamedTuple{(:parameters, :mean), Tuple{Vector{Symbol}, Vector{Float64}}}})\n\n\u001b[0mClosest candidates are:\n\u001b[0m  length(\u001b[91m::Union{Base.KeySet, Base.ValueIterator}\u001b[39m)\n\u001b[0m\u001b[90m   @\u001b[39m \u001b[90mBase\u001b[39m \u001b[90m\u001b[4mabstractdict.jl:58\u001b[24m\u001b[39m\n\u001b[0m  length(\u001b[91m::Union{SparseArrays.FixedSparseVector{Tv, Ti}, SparseArrays.SparseVector{Tv, Ti}} where {Tv, Ti}\u001b[39m)\n\u001b[0m\u001b[90m   @\u001b[39m \u001b[35mSparseArrays\u001b[39m \u001b[90m~/.julia/juliaup/julia-1.9.4+0.x64.linux.gnu/share/julia/stdlib/v1.9/SparseArrays/src/\u001b[39m\u001b[90m\u001b[4msparsevector.jl:95\u001b[24m\u001b[39m\n\u001b[0m  length(\u001b[91m::Union{ZMQ._Message, Base.RefValue{ZMQ._Message}}\u001b[39m)\n\u001b[0m\u001b[90m   @\u001b[39m \u001b[36mZMQ\u001b[39m \u001b[90m~/.julia/packages/ZMQ/lrABE/src/\u001b[39m\u001b[90m\u001b[4m_message.jl:31\u001b[24m\u001b[39m\n\u001b[0m  ...\n",
      "",
      "Stacktrace:",
      " [1] _similar_shape(itr::ChainDataFrame{NamedTuple{(:parameters, :mean), Tuple{Vector{Symbol}, Vector{Float64}}}}, #unused#::Base.HasLength)",
      "   @ Base ./array.jl:658",
      " [2] _collect(cont::UnitRange{Int64}, itr::ChainDataFrame{NamedTuple{(:parameters, :mean), Tuple{Vector{Symbol}, Vector{Float64}}}}, #unused#::Base.HasEltype, isz::Base.HasLength)",
      "   @ Base ./array.jl:713",
      " [3] collect(itr::ChainDataFrame{NamedTuple{(:parameters, :mean), Tuple{Vector{Symbol}, Vector{Float64}}}})",
      "   @ Base ./array.jl:707",
      " [4] broadcastable(x::ChainDataFrame{NamedTuple{(:parameters, :mean), Tuple{Vector{Symbol}, Vector{Float64}}}})",
      "   @ Base.Broadcast ./broadcast.jl:717",
      " [5] broadcasted(::Function, ::ChainDataFrame{NamedTuple{(:parameters, :mean), Tuple{Vector{Symbol}, Vector{Float64}}}}, ::Vector{Float64})",
      "   @ Base.Broadcast ./broadcast.jl:1314",
      " [6] top-level scope",
      "   @ In[10]:1"
     ]
    }
   ],
   "source": [
    "plot(mean(MH_chain_10) .- m10)"
   ]
  },
  {
   "cell_type": "code",
   "execution_count": null,
   "metadata": {},
   "outputs": [],
   "source": [
    "MH_chain_20 = sample(Gaussian20, MH(), 10_000)"
   ]
  },
  {
   "cell_type": "code",
   "execution_count": null,
   "metadata": {},
   "outputs": [],
   "source": [
    "MH_chain_30 = sample(Gaussian30, MH(), 10_000)"
   ]
  },
  {
   "cell_type": "code",
   "execution_count": null,
   "metadata": {},
   "outputs": [],
   "source": [
    "MH_chain_50 = sample(Gaussian50, MH(), 10_000)"
   ]
  },
  {
   "cell_type": "code",
   "execution_count": null,
   "metadata": {},
   "outputs": [],
   "source": [
    "MH_chain_100 = sample(Gaussian100, MH(), 10_000)"
   ]
  },
  {
   "cell_type": "code",
   "execution_count": null,
   "metadata": {},
   "outputs": [],
   "source": [
    "ctxt = Gaussiann10.context\n",
    "vi =  DynamicPPL.VarInfo(Gaussiann10, ctxt)"
   ]
  },
  {
   "cell_type": "code",
   "execution_count": null,
   "metadata": {},
   "outputs": [],
   "source": [
    "vi_t = Turing.link!!(vi, Gaussiann10)\n",
    "ℓ = LogDensityProblemsAD.ADgradient(DynamicPPL.LogDensityFunction(Gaussiann10, vi_t))\n",
    "ℓπ(x) = LogDensityProblems.logdensity(ℓ, x)\n",
    "∂lπ∂θ(x) = LogDensityProblems.logdensity_and_gradient(ℓ, x)"
   ]
  },
  {
   "cell_type": "code",
   "execution_count": null,
   "metadata": {},
   "outputs": [],
   "source": [
    "ℓπ(3*Vector(1:10))"
   ]
  },
  {
   "cell_type": "code",
   "execution_count": null,
   "metadata": {},
   "outputs": [],
   "source": [
    "ctxt = model.context\n",
    "vi = DynamicPPL.VarInfo(model, ctxt)\n",
    "vi_t = Turing.link!!(vi, model)\n",
    "dists = _get_dists(vi)\n",
    "dist_lengths = [length(dist) for dist in dists]\n",
    "vsyms = _name_variables(vi, dist_lengths)\n",
    "d = length(vsyms)\n",
    "\n",
    "ℓ = LogDensityProblemsAD.ADgradient(DynamicPPL.LogDensityFunction(vi_t, model, ctxt))\n",
    "ℓπ(x) = LogDensityProblems.logdensity(ℓ, x)\n",
    "∂lπ∂θ(x) = LogDensityProblems.logdensity_and_gradient(ℓ, x)"
   ]
  },
  {
   "cell_type": "code",
   "execution_count": null,
   "metadata": {},
   "outputs": [],
   "source": [
    "Gaussiann10"
   ]
  },
  {
   "cell_type": "code",
   "execution_count": null,
   "metadata": {},
   "outputs": [],
   "source": [
    "plot(chain)"
   ]
  },
  {
   "cell_type": "code",
   "execution_count": null,
   "metadata": {},
   "outputs": [],
   "source": []
  }
 ],
 "metadata": {
  "kernelspec": {
   "display_name": "Julia (10 threads) 1.9.4",
   "language": "julia",
   "name": "julia-_10-threads_-1.9"
  },
  "language_info": {
   "file_extension": ".jl",
   "mimetype": "application/julia",
   "name": "julia",
   "version": "1.9.4"
  }
 },
 "nbformat": 4,
 "nbformat_minor": 2
}
