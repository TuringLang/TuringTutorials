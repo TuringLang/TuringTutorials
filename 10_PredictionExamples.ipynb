{
 "cells": [
  {
   "cell_type": "markdown",
   "metadata": {},
   "source": [
    "## Setup"
   ]
  },
  {
   "cell_type": "code",
   "execution_count": 1,
   "metadata": {},
   "outputs": [
    {
     "name": "stdout",
     "output_type": "stream",
     "text": [
      "\u001b[32m\u001b[1mStatus\u001b[22m\u001b[39m `~/Projects/de_github/TuringTutorials/Project.toml`\n",
      " \u001b[90m [fce5fe82]\u001b[39m\u001b[37m Turing v0.13.0\u001b[39m\n"
     ]
    }
   ],
   "source": [
    "using Turing\n",
    "using Pkg\n",
    "using Plots\n",
    "using DataFrames\n",
    "using Statistics\n",
    "using StatsBase\n",
    "Pkg.status(\"Turing\")"
   ]
  },
  {
   "cell_type": "markdown",
   "metadata": {},
   "source": [
    "## Now let's construct a simple linear model and sample from it\n",
    "\n",
    "We'll generate some date and split between a training and test sample. We will perform inference with the training sample and then do a prediction with the test xs."
   ]
  },
  {
   "cell_type": "code",
   "execution_count": 2,
   "metadata": {},
   "outputs": [
    {
     "name": "stderr",
     "output_type": "stream",
     "text": [
      "┌ Info: Found initial step size\n",
      "│   ϵ = 0.0015625\n",
      "└ @ Turing.Inference /Users/cd/.julia/packages/Turing/GMBTf/src/inference/hmc.jl:629\n",
      "\u001b[32mSampling: 100%|█████████████████████████████████████████| Time: 0:00:01\u001b[39m\n"
     ]
    }
   ],
   "source": [
    "@model function linear_reg(x, y, σ = 0.1)\n",
    "           β ~ Normal(0, 1)\n",
    "           for i ∈ eachindex(y)\n",
    "               y[i] ~ Normal(β * x[i], σ)\n",
    "           end\n",
    "       end;\n",
    "\n",
    "\n",
    "xs = 0:0.1:15;\n",
    "ys = 2 .* xs .+ 0.1 .* randn(length(xs));\n",
    "\n",
    "xs_train, xs_test = xs[1:130], xs[144:end]\n",
    "ys_train, ys_test = ys[1:130], ys[144:end]\n",
    "\n",
    "#Infer\n",
    "m = linear_reg(xs_train, ys_train);\n",
    "chain = sample(m, NUTS(100, 0.65), 500);"
   ]
  },
  {
   "cell_type": "markdown",
   "metadata": {},
   "source": [
    "### What will we predict?\n",
    "\n",
    "Since we will be using xs_train as data, we are left with:\n",
    "\n",
    "+ Scalar β\n",
    "+ Vector y. It will have the size of the training set (21 observations)\n",
    "\n",
    "The way to get a prediction is to construct a \"test model\" that takes the xs_test but is passed missing values for the ys (which is what `Vector{Union{Missing, Float64}}(undef, length(ys_test))` stands for). In this way, we force the model to also sample the ys.\n",
    "\n",
    "By default, the predict function only includes variables present in model but not present in chain. In this case, this means only the vector y will be included for prediction. However, if we set `include_all=true`, then β will also be included.\n",
    "\n",
    "*Note*: I'm not sure why `Union{Missing, Float64}` is recommended over just `Vector{Missing]`"
   ]
  },
  {
   "cell_type": "code",
   "execution_count": 3,
   "metadata": {},
   "outputs": [
    {
     "data": {
      "text/plain": [
       "Object of type Chains, with data of type 400×8×1 Array{Float64,3}\n",
       "\n",
       "Iterations        = 1:400\n",
       "Thinning interval = 1\n",
       "Chains            = 1\n",
       "Samples per chain = 400\n",
       "parameters        = y[1], y[2], y[3], y[4], y[5], y[6], y[7], y[8]\n",
       "\n",
       "2-element Array{ChainDataFrame,1}\n",
       "\n",
       "Summary Statistics\n",
       "  parameters     mean     std  naive_se    mcse       ess   r_hat\n",
       "  ──────────  ───────  ──────  ────────  ──────  ────────  ──────\n",
       "        y[1]  28.5623  0.1087    0.0054  0.0022  412.5870  0.9979\n",
       "        y[2]  28.7752  0.0968    0.0048  0.0039  550.1139  1.0019\n",
       "        y[3]  28.9620  0.1048    0.0052  0.0025  356.0839  0.9992\n",
       "        y[4]  29.1680  0.1041    0.0052  0.0036  468.9575  0.9978\n",
       "        y[5]  29.3599  0.1018    0.0051  0.0100  400.0956  0.9982\n",
       "        y[6]  29.5657  0.1011    0.0051  0.0056  357.7121  0.9976\n",
       "        y[7]  29.7641  0.0957    0.0048  0.0044  439.0081  0.9991\n",
       "        y[8]  29.9668  0.0961    0.0048  0.0027  504.7036  0.9975\n",
       "\n",
       "Quantiles\n",
       "  parameters     2.5%    25.0%    50.0%    75.0%    97.5%\n",
       "  ──────────  ───────  ───────  ───────  ───────  ───────\n",
       "        y[1]  28.3342  28.4914  28.5675  28.6334  28.7648\n",
       "        y[2]  28.5967  28.7062  28.7701  28.8476  28.9572\n",
       "        y[3]  28.7596  28.8921  28.9629  29.0321  29.1612\n",
       "        y[4]  28.9538  29.1014  29.1722  29.2357  29.3613\n",
       "        y[5]  29.1739  29.2966  29.3619  29.4294  29.5807\n",
       "        y[6]  29.3875  29.4907  29.5653  29.6380  29.7515\n",
       "        y[7]  29.5671  29.7053  29.7647  29.8234  29.9532\n",
       "        y[8]  29.7851  29.8994  29.9658  30.0360  30.1451\n"
      ]
     },
     "execution_count": 3,
     "metadata": {},
     "output_type": "execute_result"
    }
   ],
   "source": [
    "m_test = linear_reg(xs_test, Vector{Union{Missing, Float64}}(undef, length(ys_test)));\n",
    "predictions = predict(m_test, chain)\n",
    "all_prediction = predict(m_test, chain, include_all=true);\n",
    "\n",
    "predictions\n"
   ]
  },
  {
   "cell_type": "code",
   "execution_count": 4,
   "metadata": {},
   "outputs": [
    {
     "data": {
      "text/plain": [
       "Object of type Chains, with data of type 400×9×1 Array{Float64,3}\n",
       "\n",
       "Iterations        = 1:400\n",
       "Thinning interval = 1\n",
       "Chains            = 1\n",
       "Samples per chain = 400\n",
       "parameters        = y[1], y[2], y[3], y[4], y[5], y[6], y[7], y[8], β\n",
       "\n",
       "2-element Array{ChainDataFrame,1}\n",
       "\n",
       "Summary Statistics\n",
       "  parameters     mean     std  naive_se    mcse       ess   r_hat\n",
       "  ──────────  ───────  ──────  ────────  ──────  ────────  ──────\n",
       "        y[1]  28.5739  0.1059    0.0053  0.0059  391.6305  0.9996\n",
       "        y[2]  28.7731  0.0950    0.0048  0.0033  402.5828  0.9992\n",
       "        y[3]  28.9717  0.1025    0.0051  0.0031  410.9166  0.9985\n",
       "        y[4]  29.1655  0.1052    0.0053  0.0056  429.7040  0.9987\n",
       "        y[5]  29.3665  0.1012    0.0051  0.0041  504.4326  0.9982\n",
       "        y[6]  29.5627  0.1062    0.0053  0.0038  413.7000  1.0006\n",
       "        y[7]  29.7665  0.0943    0.0047  0.0068  464.3466  1.0071\n",
       "        y[8]  29.9717  0.0997    0.0050  0.0037  382.1067  1.0001\n",
       "           β   1.9977  0.0011    0.0001  0.0001  174.0437  1.0071\n",
       "\n",
       "Quantiles\n",
       "  parameters     2.5%    25.0%    50.0%    75.0%    97.5%\n",
       "  ──────────  ───────  ───────  ───────  ───────  ───────\n",
       "        y[1]  28.3662  28.4943  28.5832  28.6470  28.7674\n",
       "        y[2]  28.5762  28.7061  28.7762  28.8362  28.9545\n",
       "        y[3]  28.7733  28.9102  28.9656  29.0362  29.1678\n",
       "        y[4]  28.9725  29.0967  29.1640  29.2366  29.3716\n",
       "        y[5]  29.1881  29.2922  29.3660  29.4418  29.5686\n",
       "        y[6]  29.3612  29.4939  29.5623  29.6366  29.7567\n",
       "        y[7]  29.5891  29.6997  29.7701  29.8282  29.9640\n",
       "        y[8]  29.7955  29.8987  29.9661  30.0389  30.1725\n",
       "           β   1.9956   1.9969   1.9977   1.9983   1.9999\n"
      ]
     },
     "execution_count": 4,
     "metadata": {},
     "output_type": "execute_result"
    }
   ],
   "source": [
    "all_prediction"
   ]
  },
  {
   "cell_type": "markdown",
   "metadata": {},
   "source": [
    "#### Plot credible intervals for the prediction"
   ]
  },
  {
   "cell_type": "code",
   "execution_count": 5,
   "metadata": {},
   "outputs": [
    {
     "data": {
      "image/png": "[encoded data removed]"
     },
     "execution_count": 5,
     "metadata": {},
     "output_type": "execute_result"
    }
   ],
   "source": [
    "ordered_ys = [\"y[\"  * string(i) * \"]\" for i in 1:length(ys_test)]\n",
    "pred_means = [mean(predictions[y].value) for y in ordered_ys]\n",
    "q_5 = [quantile!(predictions[y].value[:, 1, 1], 0.05) for y in ordered_ys]  \n",
    "q_95 = [quantile!(predictions[y].value[:, 1, 1], 0.95) for y in ordered_ys] \n",
    "pyplot()\n",
    "\n",
    "plot(pred_means, label=\"predicted (mean)\")\n",
    "plot!(q_5, label=\"5th quantile\")\n",
    "plot!(q_95, label=\"95th quantile\")\n",
    "plot!(ys_test, label=\"Real value\")"
   ]
  },
  {
   "cell_type": "markdown",
   "metadata": {},
   "source": [
    "## Prediction with a HMM model"
   ]
  },
  {
   "cell_type": "code",
   "execution_count": 6,
   "metadata": {},
   "outputs": [
    {
     "name": "stderr",
     "output_type": "stream",
     "text": [
      "\u001b[32mSampling: 100%|█████████████████████████████████████████| Time: 0:00:06\u001b[39m\n"
     ]
    }
   ],
   "source": [
    "using Random\n",
    "Random.seed!(1234);\n",
    "\n",
    "# Define the emission parameter.\n",
    "y_train = [ 1.0, 1.0, 1.0, 1.0, 2.0, 2.0, 2.0, 3.0, 3.0, 3.0, 2.0, 2.0, 2.0, 1.0, 1.0 ];\n",
    "y_test  = [2.0, 2.0, 1.0, 1.0]\n",
    "\n",
    "# Turing model definition.\n",
    "@model BayesHmm(y, K) = begin\n",
    "    N = length(y)\n",
    "    s = tzeros(Int, N)\n",
    "    m = Vector(undef, K)\n",
    "    T = Vector{Vector}(undef, K)\n",
    "    \n",
    "    for i = 1:K\n",
    "        T[i] ~ Dirichlet(ones(K)/K)\n",
    "        m[i] ~ Normal(i, 0.5)\n",
    "    end\n",
    "\n",
    "    # Observe each point of the input.\n",
    "    s[1] ~ Categorical(K)\n",
    "    y[1] ~ Normal(m[s[1]], 0.1)\n",
    "\n",
    "    for i = 2:N\n",
    "        s[i] ~ Categorical(vec(T[s[i-1]]))\n",
    "        y[i] ~ Normal(m[s[i]], 0.1)\n",
    "    end\n",
    "end;\n",
    "\n",
    "\n",
    "g = Gibbs(HMC(0.001, 7, :m, :T), PG(20, :s))\n",
    "c = sample(BayesHmm(y_train, 3), g, 100);"
   ]
  },
  {
   "cell_type": "markdown",
   "metadata": {},
   "source": [
    "Now suppose we wish to predict `ys`. We set the `ys` as missing and predict"
   ]
  },
  {
   "cell_type": "code",
   "execution_count": 7,
   "metadata": {},
   "outputs": [],
   "source": [
    "m_test_no_y = BayesHmm(Vector{Union{Missing, Float64}}(undef, length(y_test)), 3)\n",
    "predictions = predict(m_test_no_y, c);"
   ]
  },
  {
   "cell_type": "markdown",
   "metadata": {},
   "source": [
    "Besides predicting the test `ys`, we could pass the `y_test` values we have and use the model to predict the hidden states and parameters:\n",
    "\n",
    "+ `T` transition matrix\n",
    "+ `m` vector\n",
    "+ `s` vector"
   ]
  },
  {
   "cell_type": "code",
   "execution_count": 8,
   "metadata": {},
   "outputs": [
    {
     "data": {
      "text/plain": [
       "Object of type Chains, with data of type 100×16×1 Array{Float64,3}\n",
       "\n",
       "Iterations        = 1:100\n",
       "Thinning interval = 1\n",
       "Chains            = 1\n",
       "Samples per chain = 100\n",
       "parameters        = T[1][1], T[1][2], T[1][3], T[2][1], T[2][2], T[2][3], T[3][1], T[3][2], T[3][3], m[1], m[2], m[3], s[1], s[2], s[3], s[4]\n",
       "\n",
       "2-element Array{ChainDataFrame,1}\n",
       "\n",
       "Summary Statistics\n",
       "  parameters    mean     std  naive_se     mcse       ess   r_hat\n",
       "  ──────────  ──────  ──────  ────────  ───────  ────────  ──────\n",
       "     T[1][1]  0.3838  0.3624    0.0362  missing  104.4004  0.9927\n",
       "     T[1][2]  0.2769  0.3221    0.0322  missing  121.1886  0.9922\n",
       "     T[1][3]  0.3393  0.3351    0.0335  missing  141.3466  0.9901\n",
       "     T[2][1]  0.3220  0.3401    0.0340  missing  108.4740  0.9921\n",
       "     T[2][2]  0.3000  0.3161    0.0316  missing  168.1943  0.9953\n",
       "     T[2][3]  0.3780  0.3373    0.0337  missing   87.6225  0.9904\n",
       "     T[3][1]  0.3288  0.3288    0.0329  missing  116.1646  0.9900\n",
       "     T[3][2]  0.2729  0.3241    0.0324  missing   33.1982  1.0356\n",
       "     T[3][3]  0.3983  0.3463    0.0346  missing  126.6967  1.0306\n",
       "        m[1]  1.4287  0.1337    0.0134  missing    2.2007  2.4801\n",
       "        m[2]  1.9078  0.0331    0.0033  missing    5.4933  1.0852\n",
       "        m[3]  2.4716  0.0541    0.0054  missing    2.6397  2.0530\n",
       "        s[1]  1.0000  0.0000    0.0000  missing       NaN     NaN\n",
       "        s[2]  1.0000  0.0000    0.0000  missing       NaN     NaN\n",
       "        s[3]  1.0000  0.0000    0.0000  missing       NaN     NaN\n",
       "        s[4]  1.0000  0.0000    0.0000  missing       NaN     NaN\n",
       "\n",
       "Quantiles\n",
       "  parameters    2.5%   25.0%   50.0%   75.0%   97.5%\n",
       "  ──────────  ──────  ──────  ──────  ──────  ──────\n",
       "     T[1][1]  0.0001  0.0393  0.2166  0.7563  0.9825\n",
       "     T[1][2]  0.0000  0.0078  0.1359  0.5187  0.9733\n",
       "     T[1][3]  0.0000  0.0359  0.2060  0.6448  0.9727\n",
       "     T[2][1]  0.0001  0.0288  0.1588  0.5490  0.9867\n",
       "     T[2][2]  0.0002  0.0129  0.1759  0.5988  0.9641\n",
       "     T[2][3]  0.0001  0.0583  0.2933  0.6970  0.9706\n",
       "     T[3][1]  0.0001  0.0291  0.1950  0.5277  0.9943\n",
       "     T[3][2]  0.0000  0.0216  0.1214  0.3983  0.9887\n",
       "     T[3][3]  0.0002  0.0375  0.3683  0.7168  0.9810\n",
       "        m[1]  1.2601  1.3003  1.4037  1.5293  1.6691\n",
       "        m[2]  1.8464  1.8839  1.9082  1.9277  1.9737\n",
       "        m[3]  2.3452  2.4229  2.4881  2.5130  2.5417\n",
       "        s[1]  1.0000  1.0000  1.0000  1.0000  1.0000\n",
       "        s[2]  1.0000  1.0000  1.0000  1.0000  1.0000\n",
       "        s[3]  1.0000  1.0000  1.0000  1.0000  1.0000\n",
       "        s[4]  1.0000  1.0000  1.0000  1.0000  1.0000\n"
      ]
     },
     "execution_count": 8,
     "metadata": {},
     "output_type": "execute_result"
    }
   ],
   "source": [
    "m_test = BayesHmm(y_test, 3)\n",
    "#This doesn't work, because there are no parameters left\n",
    "#predictions = predict(m_test, c);\n",
    "\n",
    "#But this does work:\n",
    "all_predictions = predict(m_test, c, include_all=true)"
   ]
  },
  {
   "cell_type": "code",
   "execution_count": null,
   "metadata": {},
   "outputs": [],
   "source": []
  }
 ],
 "metadata": {
  "kernelspec": {
   "display_name": "Julia 1.4.1",
   "language": "julia",
   "name": "julia-1.4"
  },
  "language_info": {
   "file_extension": ".jl",
   "mimetype": "application/julia",
   "name": "julia",
   "version": "1.4.1"
  }
 },
 "nbformat": 4,
 "nbformat_minor": 2
}
