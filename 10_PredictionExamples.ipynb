{
 "cells": [
  {
   "cell_type": "markdown",
   "metadata": {},
   "source": [
    "## Setup"
   ]
  },
  {
   "cell_type": "code",
   "execution_count": 1,
   "metadata": {},
   "outputs": [
    {
     "name": "stdout",
     "output_type": "stream",
     "text": [
      "\u001b[32m\u001b[1mStatus\u001b[22m\u001b[39m `~/Projects/de_github/TuringTutorials/Project.toml`\n",
      " \u001b[90m [fce5fe82]\u001b[39m\u001b[37m Turing v0.13.0\u001b[39m\n"
     ]
    }
   ],
   "source": [
    "using Turing\n",
    "using Pkg\n",
    "using Plots\n",
    "using DataFrames\n",
    "using Statistics\n",
    "Pkg.status(\"Turing\")"
   ]
  },
  {
   "cell_type": "markdown",
   "metadata": {},
   "source": [
    "## Now let's construct a simple linear model and sample from it\n",
    "\n",
    "We'll generate some date and split between a training and test sample. We will perform inference with the training sample and then do a prediction with the test xs."
   ]
  },
  {
   "cell_type": "code",
   "execution_count": 2,
   "metadata": {},
   "outputs": [
    {
     "name": "stderr",
     "output_type": "stream",
     "text": [
      "┌ Info: Found initial step size\n",
      "│   ϵ = 0.0015625\n",
      "└ @ Turing.Inference /Users/cd/.julia/packages/Turing/GMBTf/src/inference/hmc.jl:629\n",
      "\u001b[32mSampling: 100%|█████████████████████████████████████████| Time: 0:00:01\u001b[39m\n"
     ]
    }
   ],
   "source": [
    "@model function linear_reg(x, y, σ = 0.1)\n",
    "           β ~ Normal(0, 1)\n",
    "           for i ∈ eachindex(y)\n",
    "               y[i] ~ Normal(β * x[i], σ)\n",
    "           end\n",
    "       end;\n",
    "\n",
    "\n",
    "xs = 0:0.1:15;\n",
    "ys = 2 .* xs .+ 0.1 .* randn(length(xs));\n",
    "\n",
    "xs_train, xs_test = xs[1:130], xs[144:end]\n",
    "ys_train, ys_test = ys[1:130], ys[144:end]\n",
    "\n",
    "#Infer\n",
    "m = linear_reg(xs_train, ys_train);\n",
    "chain = sample(m, NUTS(100, 0.65), 500);"
   ]
  },
  {
   "cell_type": "markdown",
   "metadata": {},
   "source": [
    "### What will we predict?\n",
    "\n",
    "Since we will be using xs_train as data, we are left with:\n",
    "\n",
    "+ Scalar β\n",
    "+ Vector y. It will have the size of the training set (21 observations)\n",
    "\n",
    "The way to get a prediction is to construct a \"test model\" that takes the xs_test but is passed missing values for the ys (which is what `Vector{Union{Missing, Float64}}(undef, length(ys_test))` stands for). In this way, we force the model to also sample the ys.\n",
    "\n",
    "By default, the predict function only includes variables present in model but not present in chain. In this case, this means only the vector y will be included for prediction. However, if we set `include_all=true`, then β will also be included.\n",
    "\n",
    "*Note*: I'm not sure why `Union{Missing, Float64}` is recommended over just `Vector{Missing]`"
   ]
  },
  {
   "cell_type": "code",
   "execution_count": 6,
   "metadata": {},
   "outputs": [],
   "source": [
    "import Turing"
   ]
  },
  {
   "cell_type": "code",
   "execution_count": 7,
   "metadata": {},
   "outputs": [
    {
     "data": {
      "text/plain": [
       "Object of type Chains, with data of type 400×8×1 Array{Float64,3}\n",
       "\n",
       "Iterations        = 1:400\n",
       "Thinning interval = 1\n",
       "Chains            = 1\n",
       "Samples per chain = 400\n",
       "parameters        = y[1], y[2], y[3], y[4], y[5], y[6], y[7], y[8]\n",
       "\n",
       "2-element Array{ChainDataFrame,1}\n",
       "\n",
       "Summary Statistics\n",
       "  parameters     mean     std  naive_se    mcse       ess   r_hat\n",
       "  ──────────  ───────  ──────  ────────  ──────  ────────  ──────\n",
       "        y[1]  28.5941  0.1051    0.0053  0.0052  358.3642  0.9976\n",
       "        y[2]  28.7973  0.1010    0.0050  0.0054  408.5649  0.9984\n",
       "        y[3]  28.9885  0.1010    0.0050  0.0030  429.9975  0.9976\n",
       "        y[4]  29.1913  0.1046    0.0052  0.0062  393.1565  0.9976\n",
       "        y[5]  29.3880  0.0975    0.0049  0.0094  341.5437  1.0069\n",
       "        y[6]  29.6008  0.1009    0.0050  0.0067  310.0992  1.0083\n",
       "        y[7]  29.7926  0.1031    0.0052  0.0058  449.9076  1.0007\n",
       "        y[8]  29.9896  0.1024    0.0051  0.0041  472.7897  0.9990\n",
       "\n",
       "Quantiles\n",
       "  parameters     2.5%    25.0%    50.0%    75.0%    97.5%\n",
       "  ──────────  ───────  ───────  ───────  ───────  ───────\n",
       "        y[1]  28.3961  28.5213  28.5930  28.6657  28.7970\n",
       "        y[2]  28.6202  28.7305  28.7964  28.8638  28.9945\n",
       "        y[3]  28.7956  28.9233  28.9869  29.0545  29.2028\n",
       "        y[4]  28.9854  29.1136  29.1918  29.2658  29.3946\n",
       "        y[5]  29.2096  29.3232  29.3823  29.4539  29.5793\n",
       "        y[6]  29.3928  29.5401  29.6070  29.6712  29.7804\n",
       "        y[7]  29.6029  29.7245  29.7864  29.8701  29.9887\n",
       "        y[8]  29.7761  29.9213  29.9960  30.0617  30.1840\n"
      ]
     },
     "execution_count": 7,
     "metadata": {},
     "output_type": "execute_result"
    }
   ],
   "source": [
    "m_test = linear_reg(xs_test, Vector{Union{Missing, Float64}}(undef, length(ys_test)));\n",
    "predictions = Turing.Inference.predict(m_test, chain)\n",
    "all_prediction = Turing.Inference.predict(m_test, chain, include_all=true);\n",
    "\n",
    "predictions\n"
   ]
  },
  {
   "cell_type": "code",
   "execution_count": 8,
   "metadata": {},
   "outputs": [
    {
     "data": {
      "text/plain": [
       "Object of type Chains, with data of type 400×9×1 Array{Float64,3}\n",
       "\n",
       "Iterations        = 1:400\n",
       "Thinning interval = 1\n",
       "Chains            = 1\n",
       "Samples per chain = 400\n",
       "parameters        = y[1], y[2], y[3], y[4], y[5], y[6], y[7], y[8], β\n",
       "\n",
       "2-element Array{ChainDataFrame,1}\n",
       "\n",
       "Summary Statistics\n",
       "  parameters     mean     std  naive_se    mcse       ess   r_hat\n",
       "  ──────────  ───────  ──────  ────────  ──────  ────────  ──────\n",
       "        y[1]  28.5871  0.1028    0.0051  0.0023  441.0522  0.9976\n",
       "        y[2]  28.7965  0.1114    0.0056  0.0052  283.1358  0.9978\n",
       "        y[3]  28.9857  0.0970    0.0048  0.0039  355.3964  0.9976\n",
       "        y[4]  29.1920  0.1019    0.0051  0.0062  373.1915  1.0015\n",
       "        y[5]  29.3992  0.1065    0.0053  0.0049  415.2201  1.0027\n",
       "        y[6]  29.5915  0.0985    0.0049  0.0054  538.9004  0.9990\n",
       "        y[7]  29.7923  0.1007    0.0050  0.0119  217.5587  1.0030\n",
       "        y[8]  29.9843  0.1029    0.0051  0.0041  415.6712  0.9993\n",
       "           β   1.9994  0.0012    0.0001  0.0001  248.9727  0.9986\n",
       "\n",
       "Quantiles\n",
       "  parameters     2.5%    25.0%    50.0%    75.0%    97.5%\n",
       "  ──────────  ───────  ───────  ───────  ───────  ───────\n",
       "        y[1]  28.4015  28.5202  28.5832  28.6580  28.7929\n",
       "        y[2]  28.5730  28.7216  28.7995  28.8767  28.9965\n",
       "        y[3]  28.7877  28.9231  28.9881  29.0501  29.1715\n",
       "        y[4]  28.9931  29.1245  29.1948  29.2567  29.3922\n",
       "        y[5]  29.1810  29.3201  29.3977  29.4736  29.5970\n",
       "        y[6]  29.4092  29.5230  29.5917  29.6640  29.7839\n",
       "        y[7]  29.5955  29.7275  29.7885  29.8547  29.9973\n",
       "        y[8]  29.7873  29.9105  29.9863  30.0507  30.1963\n",
       "           β   1.9971   1.9987   1.9993   2.0001   2.0019\n"
      ]
     },
     "execution_count": 8,
     "metadata": {},
     "output_type": "execute_result"
    }
   ],
   "source": [
    "all_prediction"
   ]
  },
  {
   "cell_type": "markdown",
   "metadata": {},
   "source": [
    "#### Plot credible intervals for the prediction"
   ]
  },
  {
   "cell_type": "code",
   "execution_count": 9,
   "metadata": {},
   "outputs": [
    {
     "name": "stderr",
     "output_type": "stream",
     "text": [
      "┌ Info: Precompiling PyPlot [d330b81b-6aea-500a-939a-2ce795aea3ee]\n",
      "└ @ Base loading.jl:1260\n"
     ]
    },
    {
     "data": {
      "image/png": "[encoded data removed]"
     },
     "execution_count": 9,
     "metadata": {},
     "output_type": "execute_result"
    }
   ],
   "source": [
    "ordered_ys = [\"y[\"  * string(i) * \"]\" for i in 1:length(ys_test)]\n",
    "pred_means = [mean(predictions[y].value) for y in ordered_ys]\n",
    "q_5 = [quantile!(predictions[y].value[:, 1, 1], 0.05) for y in ordered_ys]  \n",
    "q_95 = [quantile!(predictions[y].value[:, 1, 1], 0.95) for y in ordered_ys] \n",
    "pyplot()\n",
    "\n",
    "plot(pred_means, label=\"predicted (mean)\")\n",
    "plot!(q_5, label=\"5th quantile\")\n",
    "plot!(q_95, label=\"95th quantile\")\n",
    "plot!(ys_test, label=\"Real value\")"
   ]
  },
  {
   "cell_type": "markdown",
   "metadata": {},
   "source": [
    "## Prediction with a HMM model"
   ]
  },
  {
   "cell_type": "code",
   "execution_count": 10,
   "metadata": {},
   "outputs": [
    {
     "name": "stderr",
     "output_type": "stream",
     "text": [
      "\u001b[32mSampling: 100%|█████████████████████████████████████████| Time: 0:00:06\u001b[39m\n"
     ]
    }
   ],
   "source": [
    "using Random\n",
    "Random.seed!(1234);\n",
    "\n",
    "# Define the emission parameter.\n",
    "y_train = [ 1.0, 1.0, 1.0, 1.0, 2.0, 2.0, 2.0, 3.0, 3.0, 3.0, 2.0, 2.0, 2.0, 1.0, 1.0 ];\n",
    "y_test  = [2.0, 2.0, 1.0, 1.0]\n",
    "\n",
    "# Turing model definition.\n",
    "@model BayesHmm(y, K) = begin\n",
    "    N = length(y)\n",
    "    s = tzeros(Int, N)\n",
    "    m = Vector(undef, K)\n",
    "    T = Vector{Vector}(undef, K)\n",
    "    \n",
    "    for i = 1:K\n",
    "        T[i] ~ Dirichlet(ones(K)/K)\n",
    "        m[i] ~ Normal(i, 0.5)\n",
    "    end\n",
    "\n",
    "    # Observe each point of the input.\n",
    "    s[1] ~ Categorical(K)\n",
    "    y[1] ~ Normal(m[s[1]], 0.1)\n",
    "\n",
    "    for i = 2:N\n",
    "        s[i] ~ Categorical(vec(T[s[i-1]]))\n",
    "        y[i] ~ Normal(m[s[i]], 0.1)\n",
    "    end\n",
    "end;\n",
    "\n",
    "\n",
    "g = Gibbs(HMC(0.001, 7, :m, :T), PG(20, :s))\n",
    "c = sample(BayesHmm(y_train, 3), g, 100);"
   ]
  },
  {
   "cell_type": "markdown",
   "metadata": {},
   "source": [
    "Now suppose we wish to predict `ys`. We set the `ys` as missing and predict"
   ]
  },
  {
   "cell_type": "code",
   "execution_count": 12,
   "metadata": {},
   "outputs": [],
   "source": [
    "m_test_no_y = BayesHmm(Vector{Union{Missing, Float64}}(undef, length(y_test)), 3)\n",
    "predictions = Turing.Inference.predict(m_test_no_y, c);"
   ]
  },
  {
   "cell_type": "markdown",
   "metadata": {},
   "source": [
    "Besides predicting the test `ys`, we could pass the `y_test` values we have and use the model to predict the hidden states and parameters:\n",
    "\n",
    "+ `T` transition matrix\n",
    "+ `m` vector\n",
    "+ `s` vector"
   ]
  },
  {
   "cell_type": "code",
   "execution_count": 13,
   "metadata": {},
   "outputs": [
    {
     "data": {
      "text/plain": [
       "Object of type Chains, with data of type 100×16×1 Array{Float64,3}\n",
       "\n",
       "Iterations        = 1:100\n",
       "Thinning interval = 1\n",
       "Chains            = 1\n",
       "Samples per chain = 100\n",
       "parameters        = T[1][1], T[1][2], T[1][3], T[2][1], T[2][2], T[2][3], T[3][1], T[3][2], T[3][3], m[1], m[2], m[3], s[1], s[2], s[3], s[4]\n",
       "\n",
       "2-element Array{ChainDataFrame,1}\n",
       "\n",
       "Summary Statistics\n",
       "  parameters    mean     std  naive_se     mcse       ess   r_hat\n",
       "  ──────────  ──────  ──────  ────────  ───────  ────────  ──────\n",
       "     T[1][1]  0.3079  0.3363    0.0336  missing  114.0093  1.0076\n",
       "     T[1][2]  0.3388  0.3397    0.0340  missing  202.5069  0.9900\n",
       "     T[1][3]  0.3532  0.3410    0.0341  missing  150.8962  1.0077\n",
       "     T[2][1]  0.2861  0.3167    0.0317  missing  103.7941  0.9910\n",
       "     T[2][2]  0.4060  0.3582    0.0358  missing   95.6968  0.9925\n",
       "     T[2][3]  0.3079  0.3247    0.0325  missing   74.2326  0.9906\n",
       "     T[3][1]  0.3211  0.3296    0.0330  missing  120.2212  1.0030\n",
       "     T[3][2]  0.3907  0.3479    0.0348  missing  101.8368  0.9919\n",
       "     T[3][3]  0.2881  0.2996    0.0300  missing  137.8899  0.9953\n",
       "        m[1]  1.4287  0.1337    0.0134  missing    2.2007  2.4801\n",
       "        m[2]  1.9078  0.0331    0.0033  missing    5.4933  1.0852\n",
       "        m[3]  2.4716  0.0541    0.0054  missing    2.6397  2.0530\n",
       "        s[1]  1.0000  0.0000    0.0000  missing       NaN     NaN\n",
       "        s[2]  1.0000  0.0000    0.0000  missing       NaN     NaN\n",
       "        s[3]  1.0000  0.0000    0.0000  missing       NaN     NaN\n",
       "        s[4]  1.0000  0.0000    0.0000  missing       NaN     NaN\n",
       "\n",
       "Quantiles\n",
       "  parameters    2.5%   25.0%   50.0%   75.0%   97.5%\n",
       "  ──────────  ──────  ──────  ──────  ──────  ──────\n",
       "     T[1][1]  0.0000  0.0237  0.1607  0.5925  0.9894\n",
       "     T[1][2]  0.0000  0.0307  0.2214  0.6276  0.9965\n",
       "     T[1][3]  0.0000  0.0201  0.2660  0.6760  0.9737\n",
       "     T[2][1]  0.0000  0.0200  0.1627  0.4722  0.9609\n",
       "     T[2][2]  0.0002  0.0325  0.3390  0.7181  0.9962\n",
       "     T[2][3]  0.0003  0.0226  0.1639  0.5877  0.9744\n",
       "     T[3][1]  0.0000  0.0221  0.1890  0.6447  0.9656\n",
       "     T[3][2]  0.0002  0.0421  0.3391  0.6728  0.9922\n",
       "     T[3][3]  0.0001  0.0242  0.1846  0.4603  0.9771\n",
       "        m[1]  1.2601  1.3003  1.4037  1.5293  1.6691\n",
       "        m[2]  1.8464  1.8839  1.9082  1.9277  1.9737\n",
       "        m[3]  2.3452  2.4229  2.4881  2.5130  2.5417\n",
       "        s[1]  1.0000  1.0000  1.0000  1.0000  1.0000\n",
       "        s[2]  1.0000  1.0000  1.0000  1.0000  1.0000\n",
       "        s[3]  1.0000  1.0000  1.0000  1.0000  1.0000\n",
       "        s[4]  1.0000  1.0000  1.0000  1.0000  1.0000\n"
      ]
     },
     "execution_count": 13,
     "metadata": {},
     "output_type": "execute_result"
    }
   ],
   "source": [
    "m_test = BayesHmm(y_test, 3)\n",
    "#This doesn't work, because there are no parameters left\n",
    "#predictions = predict(m_test, c);\n",
    "\n",
    "#But this does work:\n",
    "all_predictions = Turing.Inference.predict(m_test, c, include_all=true)"
   ]
  },
  {
   "cell_type": "code",
   "execution_count": null,
   "metadata": {},
   "outputs": [],
   "source": []
  }
 ],
 "metadata": {
  "kernelspec": {
   "display_name": "Julia 1.4.1",
   "language": "julia",
   "name": "julia-1.4"
  },
  "language_info": {
   "file_extension": ".jl",
   "mimetype": "application/julia",
   "name": "julia",
   "version": "1.4.1"
  }
 },
 "nbformat": 4,
 "nbformat_minor": 2
}
